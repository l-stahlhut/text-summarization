{
  "nbformat": 4,
  "nbformat_minor": 0,
  "metadata": {
    "colab": {
      "provenance": []
    },
    "kernelspec": {
      "name": "python3",
      "display_name": "Python 3"
    },
    "language_info": {
      "name": "python"
    }
  },
  "cells": [
    {
      "cell_type": "markdown",
      "source": [
        "# Random Selection of Sentences and Paragraphs\n",
        "Data Preperation for Pipelines 3 & 4\n",
        "\n"
      ],
      "metadata": {
        "id": "3ollvocTHOPa"
      }
    },
    {
      "cell_type": "code",
      "execution_count": null,
      "metadata": {
        "id": "5mOPgADNHMpQ"
      },
      "outputs": [],
      "source": [
        "import os\n",
        "import pandas as pd\n",
        "from ast import literal_eval"
      ]
    },
    {
      "cell_type": "code",
      "source": [
        "from google.colab import drive\n",
        "drive.mount('/content/drive')"
      ],
      "metadata": {
        "colab": {
          "base_uri": "https://localhost:8080/"
        },
        "id": "w7-K7PhLIiLp",
        "outputId": "25f56b8e-b912-4659-f41e-9d5430fe57ae"
      },
      "execution_count": null,
      "outputs": [
        {
          "output_type": "stream",
          "name": "stdout",
          "text": [
            "Drive already mounted at /content/drive; to attempt to forcibly remount, call drive.mount(\"/content/drive\", force_remount=True).\n"
          ]
        }
      ]
    },
    {
      "cell_type": "markdown",
      "source": [
        "## Load Data"
      ],
      "metadata": {
        "id": "c9v-0XwJT9B7"
      }
    },
    {
      "cell_type": "code",
      "source": [
        "data_path = '/content/drive/MyDrive/Text-Mining/Data/before_shortening/'"
      ],
      "metadata": {
        "id": "myreznaXIkY4"
      },
      "execution_count": null,
      "outputs": []
    },
    {
      "cell_type": "code",
      "source": [
        "# load test and train data\n",
        "train_data = pd.read_csv(os.path.join(data_path,'train_with_rouge_sent.tsv'), sep='\\t')\n",
        "test_data = pd.read_csv(os.path.join(data_path,'test_with_rouge_sent.tsv'), sep='\\t')"
      ],
      "metadata": {
        "id": "OkGMcAm3Tm1O"
      },
      "execution_count": null,
      "outputs": []
    },
    {
      "cell_type": "code",
      "source": [
        "# inspect test and train data\n",
        "print(\"Shape of train data: \", train_data.shape)\n",
        "print(\"Shape of test data: \", test_data.shape)\n",
        "print(\"Head of test data:\")\n",
        "test_data.head(3) # 150 rows"
      ],
      "metadata": {
        "colab": {
          "base_uri": "https://localhost:8080/",
          "height": 517
        },
        "id": "xptE-EH6Ltk-",
        "outputId": "90765b43-6dff-4f99-b563-73d48bd8168a"
      },
      "execution_count": null,
      "outputs": [
        {
          "output_type": "stream",
          "name": "stdout",
          "text": [
            "Shape of train data:  (10148, 11)\n",
            "Shape of test data:  (150, 11)\n",
            "Head of test data:\n"
          ]
        },
        {
          "output_type": "execute_result",
          "data": {
            "text/plain": [
              "   Unnamed: 0                 id  \\\n",
              "0           0  S0003687013000549   \n",
              "1           1  S0003687013000550   \n",
              "2           2  S0003687013000562   \n",
              "\n",
              "                                               title  abstract  \\\n",
              "0  Wrist posture affects hand and forearm muscle ...       NaN   \n",
              "1  Variation in work tasks in relation to pinch g...       NaN   \n",
              "2  The development of guidelines for the design a...       NaN   \n",
              "\n",
              "                                                body  \\\n",
              "0  Non-neutral wrist posture is a risk factor of ...   \n",
              "1  Objectives We aimed to investigate the relatio...   \n",
              "2  We report a study which aimed to provide furth...   \n",
              "\n",
              "                                          highlights  \\\n",
              "0  We quantified the effect of four wrist posture...   \n",
              "1  The relationship of task variation during dent...   \n",
              "2  We carried out an evaluation of a set of pilot...   \n",
              "\n",
              "                                         key_phrases  \\\n",
              "0  Biomechanical model\\nMuscle stress\\nOptimizati...   \n",
              "1  Pinch grip strength\\nSymptomatic hand OA\\nDent...   \n",
              "2  Warnings\\nSigns\\nChildren\\nSafety\\nGuidelines\\...   \n",
              "\n",
              "                                     part_of_section  \\\n",
              "0  ['@&#ABSTRACT@&#', '@&#ABSTRACT@&#', '@&#ABSTR...   \n",
              "1  ['@&#ABSTRACT@&#', '@&#ABSTRACT@&#', '@&#ABSTR...   \n",
              "2  ['@&#ABSTRACT@&#', '@&#ABSTRACT@&#', '@&#ABSTR...   \n",
              "\n",
              "                              rouge_scores_sentences  \\\n",
              "0  [0.019940179264201417, 0.019940179225195802, 0...   \n",
              "1  [0.034782608298088644, 0.03478260832593993, 0....   \n",
              "2  [0.0579268286485444, 0.012480499065179458, 0.0...   \n",
              "\n",
              "                                    sentence_lengths  \\\n",
              "0  [15, 15, 28, 13, 27, 31, 27, 21, 17, 23, 20, 1...   \n",
              "1  [17, 18, 14, 54, 14, 17, 9, 18, 75, 21, 6, 17,...   \n",
              "2  [25, 12, 30, 17, 35, 17, 12, 23, 28, 18, 23, 1...   \n",
              "\n",
              "                                           sentences  \n",
              "0  ['Non-neutral wrist posture is a risk factor o...  \n",
              "1  ['Objectives We aimed to investigate the relat...  \n",
              "2  ['We report a study which aimed to provide fur...  "
            ],
            "text/html": [
              "\n",
              "  <div id=\"df-c5357688-1dc6-43e7-bc08-6548788c2658\">\n",
              "    <div class=\"colab-df-container\">\n",
              "      <div>\n",
              "<style scoped>\n",
              "    .dataframe tbody tr th:only-of-type {\n",
              "        vertical-align: middle;\n",
              "    }\n",
              "\n",
              "    .dataframe tbody tr th {\n",
              "        vertical-align: top;\n",
              "    }\n",
              "\n",
              "    .dataframe thead th {\n",
              "        text-align: right;\n",
              "    }\n",
              "</style>\n",
              "<table border=\"1\" class=\"dataframe\">\n",
              "  <thead>\n",
              "    <tr style=\"text-align: right;\">\n",
              "      <th></th>\n",
              "      <th>Unnamed: 0</th>\n",
              "      <th>id</th>\n",
              "      <th>title</th>\n",
              "      <th>abstract</th>\n",
              "      <th>body</th>\n",
              "      <th>highlights</th>\n",
              "      <th>key_phrases</th>\n",
              "      <th>part_of_section</th>\n",
              "      <th>rouge_scores_sentences</th>\n",
              "      <th>sentence_lengths</th>\n",
              "      <th>sentences</th>\n",
              "    </tr>\n",
              "  </thead>\n",
              "  <tbody>\n",
              "    <tr>\n",
              "      <th>0</th>\n",
              "      <td>0</td>\n",
              "      <td>S0003687013000549</td>\n",
              "      <td>Wrist posture affects hand and forearm muscle ...</td>\n",
              "      <td>NaN</td>\n",
              "      <td>Non-neutral wrist posture is a risk factor of ...</td>\n",
              "      <td>We quantified the effect of four wrist posture...</td>\n",
              "      <td>Biomechanical model\\nMuscle stress\\nOptimizati...</td>\n",
              "      <td>['@&amp;#ABSTRACT@&amp;#', '@&amp;#ABSTRACT@&amp;#', '@&amp;#ABSTR...</td>\n",
              "      <td>[0.019940179264201417, 0.019940179225195802, 0...</td>\n",
              "      <td>[15, 15, 28, 13, 27, 31, 27, 21, 17, 23, 20, 1...</td>\n",
              "      <td>['Non-neutral wrist posture is a risk factor o...</td>\n",
              "    </tr>\n",
              "    <tr>\n",
              "      <th>1</th>\n",
              "      <td>1</td>\n",
              "      <td>S0003687013000550</td>\n",
              "      <td>Variation in work tasks in relation to pinch g...</td>\n",
              "      <td>NaN</td>\n",
              "      <td>Objectives We aimed to investigate the relatio...</td>\n",
              "      <td>The relationship of task variation during dent...</td>\n",
              "      <td>Pinch grip strength\\nSymptomatic hand OA\\nDent...</td>\n",
              "      <td>['@&amp;#ABSTRACT@&amp;#', '@&amp;#ABSTRACT@&amp;#', '@&amp;#ABSTR...</td>\n",
              "      <td>[0.034782608298088644, 0.03478260832593993, 0....</td>\n",
              "      <td>[17, 18, 14, 54, 14, 17, 9, 18, 75, 21, 6, 17,...</td>\n",
              "      <td>['Objectives We aimed to investigate the relat...</td>\n",
              "    </tr>\n",
              "    <tr>\n",
              "      <th>2</th>\n",
              "      <td>2</td>\n",
              "      <td>S0003687013000562</td>\n",
              "      <td>The development of guidelines for the design a...</td>\n",
              "      <td>NaN</td>\n",
              "      <td>We report a study which aimed to provide furth...</td>\n",
              "      <td>We carried out an evaluation of a set of pilot...</td>\n",
              "      <td>Warnings\\nSigns\\nChildren\\nSafety\\nGuidelines\\...</td>\n",
              "      <td>['@&amp;#ABSTRACT@&amp;#', '@&amp;#ABSTRACT@&amp;#', '@&amp;#ABSTR...</td>\n",
              "      <td>[0.0579268286485444, 0.012480499065179458, 0.0...</td>\n",
              "      <td>[25, 12, 30, 17, 35, 17, 12, 23, 28, 18, 23, 1...</td>\n",
              "      <td>['We report a study which aimed to provide fur...</td>\n",
              "    </tr>\n",
              "  </tbody>\n",
              "</table>\n",
              "</div>\n",
              "      <button class=\"colab-df-convert\" onclick=\"convertToInteractive('df-c5357688-1dc6-43e7-bc08-6548788c2658')\"\n",
              "              title=\"Convert this dataframe to an interactive table.\"\n",
              "              style=\"display:none;\">\n",
              "        \n",
              "  <svg xmlns=\"http://www.w3.org/2000/svg\" height=\"24px\"viewBox=\"0 0 24 24\"\n",
              "       width=\"24px\">\n",
              "    <path d=\"M0 0h24v24H0V0z\" fill=\"none\"/>\n",
              "    <path d=\"M18.56 5.44l.94 2.06.94-2.06 2.06-.94-2.06-.94-.94-2.06-.94 2.06-2.06.94zm-11 1L8.5 8.5l.94-2.06 2.06-.94-2.06-.94L8.5 2.5l-.94 2.06-2.06.94zm10 10l.94 2.06.94-2.06 2.06-.94-2.06-.94-.94-2.06-.94 2.06-2.06.94z\"/><path d=\"M17.41 7.96l-1.37-1.37c-.4-.4-.92-.59-1.43-.59-.52 0-1.04.2-1.43.59L10.3 9.45l-7.72 7.72c-.78.78-.78 2.05 0 2.83L4 21.41c.39.39.9.59 1.41.59.51 0 1.02-.2 1.41-.59l7.78-7.78 2.81-2.81c.8-.78.8-2.07 0-2.86zM5.41 20L4 18.59l7.72-7.72 1.47 1.35L5.41 20z\"/>\n",
              "  </svg>\n",
              "      </button>\n",
              "      \n",
              "  <style>\n",
              "    .colab-df-container {\n",
              "      display:flex;\n",
              "      flex-wrap:wrap;\n",
              "      gap: 12px;\n",
              "    }\n",
              "\n",
              "    .colab-df-convert {\n",
              "      background-color: #E8F0FE;\n",
              "      border: none;\n",
              "      border-radius: 50%;\n",
              "      cursor: pointer;\n",
              "      display: none;\n",
              "      fill: #1967D2;\n",
              "      height: 32px;\n",
              "      padding: 0 0 0 0;\n",
              "      width: 32px;\n",
              "    }\n",
              "\n",
              "    .colab-df-convert:hover {\n",
              "      background-color: #E2EBFA;\n",
              "      box-shadow: 0px 1px 2px rgba(60, 64, 67, 0.3), 0px 1px 3px 1px rgba(60, 64, 67, 0.15);\n",
              "      fill: #174EA6;\n",
              "    }\n",
              "\n",
              "    [theme=dark] .colab-df-convert {\n",
              "      background-color: #3B4455;\n",
              "      fill: #D2E3FC;\n",
              "    }\n",
              "\n",
              "    [theme=dark] .colab-df-convert:hover {\n",
              "      background-color: #434B5C;\n",
              "      box-shadow: 0px 1px 3px 1px rgba(0, 0, 0, 0.15);\n",
              "      filter: drop-shadow(0px 1px 2px rgba(0, 0, 0, 0.3));\n",
              "      fill: #FFFFFF;\n",
              "    }\n",
              "  </style>\n",
              "\n",
              "      <script>\n",
              "        const buttonEl =\n",
              "          document.querySelector('#df-c5357688-1dc6-43e7-bc08-6548788c2658 button.colab-df-convert');\n",
              "        buttonEl.style.display =\n",
              "          google.colab.kernel.accessAllowed ? 'block' : 'none';\n",
              "\n",
              "        async function convertToInteractive(key) {\n",
              "          const element = document.querySelector('#df-c5357688-1dc6-43e7-bc08-6548788c2658');\n",
              "          const dataTable =\n",
              "            await google.colab.kernel.invokeFunction('convertToInteractive',\n",
              "                                                     [key], {});\n",
              "          if (!dataTable) return;\n",
              "\n",
              "          const docLinkHtml = 'Like what you see? Visit the ' +\n",
              "            '<a target=\"_blank\" href=https://colab.research.google.com/notebooks/data_table.ipynb>data table notebook</a>'\n",
              "            + ' to learn more about interactive tables.';\n",
              "          element.innerHTML = '';\n",
              "          dataTable['output_type'] = 'display_data';\n",
              "          await google.colab.output.renderOutput(dataTable, element);\n",
              "          const docLink = document.createElement('div');\n",
              "          docLink.innerHTML = docLinkHtml;\n",
              "          element.appendChild(docLink);\n",
              "        }\n",
              "      </script>\n",
              "    </div>\n",
              "  </div>\n",
              "  "
            ]
          },
          "metadata": {},
          "execution_count": 73
        }
      ]
    },
    {
      "cell_type": "markdown",
      "source": [
        "## Random extraction of sentences\n",
        "Pipeline 4:\n",
        "- Random extraction of sentences so that the length will be approx. 3072 tokens\n",
        "- train/test split\n",
        "- Finetune Bigbird Pegasus with randomly extracted sentences\n",
        "- Apply finetunes Bigbird Pegasus --> abstractive summary\n",
        "\n",
        "TODO:\n",
        "- Take the following columns from the original data files: index, id, title, abstract, body, highlights, key-phrases\n",
        "- Generate a list of random sentences from the body\n",
        "- Add the column 'shortened articles'"
      ],
      "metadata": {
        "id": "lQDFEdANIIli"
      }
    },
    {
      "cell_type": "code",
      "source": [
        "# create new dataframes (copy relevant columns)\n",
        "train_shortened_sent = train_data[['id','title', 'abstract', 'body', 'highlights', 'key_phrases']].copy()\n",
        "test_shortened_sent = test_data[['id','title', 'abstract', 'body', 'highlights', 'key_phrases']].copy()\n",
        "print(\"Shape of new train dataframe: \", train_shortened_sent.shape)\n",
        "print(\"Shape of new test dataframe: \", test_shortened_sent.shape)\n",
        "test_shortened_sent.head(3)"
      ],
      "metadata": {
        "colab": {
          "base_uri": "https://localhost:8080/",
          "height": 310
        },
        "id": "t1jHyzYJVh0j",
        "outputId": "86fe09ae-8b67-4e31-9f99-0ae686b91b1d"
      },
      "execution_count": null,
      "outputs": [
        {
          "output_type": "stream",
          "name": "stdout",
          "text": [
            "Shape of new train dataframe:  (10148, 6)\n",
            "Shape of new test dataframe:  (150, 6)\n"
          ]
        },
        {
          "output_type": "execute_result",
          "data": {
            "text/plain": [
              "                  id                                              title  \\\n",
              "0  S0003687013000549  Wrist posture affects hand and forearm muscle ...   \n",
              "1  S0003687013000550  Variation in work tasks in relation to pinch g...   \n",
              "2  S0003687013000562  The development of guidelines for the design a...   \n",
              "\n",
              "   abstract                                               body  \\\n",
              "0       NaN  Non-neutral wrist posture is a risk factor of ...   \n",
              "1       NaN  Objectives We aimed to investigate the relatio...   \n",
              "2       NaN  We report a study which aimed to provide furth...   \n",
              "\n",
              "                                          highlights  \\\n",
              "0  We quantified the effect of four wrist posture...   \n",
              "1  The relationship of task variation during dent...   \n",
              "2  We carried out an evaluation of a set of pilot...   \n",
              "\n",
              "                                         key_phrases  \n",
              "0  Biomechanical model\\nMuscle stress\\nOptimizati...  \n",
              "1  Pinch grip strength\\nSymptomatic hand OA\\nDent...  \n",
              "2  Warnings\\nSigns\\nChildren\\nSafety\\nGuidelines\\...  "
            ],
            "text/html": [
              "\n",
              "  <div id=\"df-f2f3da5f-ed0f-4b13-b52b-31853fcf4e76\">\n",
              "    <div class=\"colab-df-container\">\n",
              "      <div>\n",
              "<style scoped>\n",
              "    .dataframe tbody tr th:only-of-type {\n",
              "        vertical-align: middle;\n",
              "    }\n",
              "\n",
              "    .dataframe tbody tr th {\n",
              "        vertical-align: top;\n",
              "    }\n",
              "\n",
              "    .dataframe thead th {\n",
              "        text-align: right;\n",
              "    }\n",
              "</style>\n",
              "<table border=\"1\" class=\"dataframe\">\n",
              "  <thead>\n",
              "    <tr style=\"text-align: right;\">\n",
              "      <th></th>\n",
              "      <th>id</th>\n",
              "      <th>title</th>\n",
              "      <th>abstract</th>\n",
              "      <th>body</th>\n",
              "      <th>highlights</th>\n",
              "      <th>key_phrases</th>\n",
              "    </tr>\n",
              "  </thead>\n",
              "  <tbody>\n",
              "    <tr>\n",
              "      <th>0</th>\n",
              "      <td>S0003687013000549</td>\n",
              "      <td>Wrist posture affects hand and forearm muscle ...</td>\n",
              "      <td>NaN</td>\n",
              "      <td>Non-neutral wrist posture is a risk factor of ...</td>\n",
              "      <td>We quantified the effect of four wrist posture...</td>\n",
              "      <td>Biomechanical model\\nMuscle stress\\nOptimizati...</td>\n",
              "    </tr>\n",
              "    <tr>\n",
              "      <th>1</th>\n",
              "      <td>S0003687013000550</td>\n",
              "      <td>Variation in work tasks in relation to pinch g...</td>\n",
              "      <td>NaN</td>\n",
              "      <td>Objectives We aimed to investigate the relatio...</td>\n",
              "      <td>The relationship of task variation during dent...</td>\n",
              "      <td>Pinch grip strength\\nSymptomatic hand OA\\nDent...</td>\n",
              "    </tr>\n",
              "    <tr>\n",
              "      <th>2</th>\n",
              "      <td>S0003687013000562</td>\n",
              "      <td>The development of guidelines for the design a...</td>\n",
              "      <td>NaN</td>\n",
              "      <td>We report a study which aimed to provide furth...</td>\n",
              "      <td>We carried out an evaluation of a set of pilot...</td>\n",
              "      <td>Warnings\\nSigns\\nChildren\\nSafety\\nGuidelines\\...</td>\n",
              "    </tr>\n",
              "  </tbody>\n",
              "</table>\n",
              "</div>\n",
              "      <button class=\"colab-df-convert\" onclick=\"convertToInteractive('df-f2f3da5f-ed0f-4b13-b52b-31853fcf4e76')\"\n",
              "              title=\"Convert this dataframe to an interactive table.\"\n",
              "              style=\"display:none;\">\n",
              "        \n",
              "  <svg xmlns=\"http://www.w3.org/2000/svg\" height=\"24px\"viewBox=\"0 0 24 24\"\n",
              "       width=\"24px\">\n",
              "    <path d=\"M0 0h24v24H0V0z\" fill=\"none\"/>\n",
              "    <path d=\"M18.56 5.44l.94 2.06.94-2.06 2.06-.94-2.06-.94-.94-2.06-.94 2.06-2.06.94zm-11 1L8.5 8.5l.94-2.06 2.06-.94-2.06-.94L8.5 2.5l-.94 2.06-2.06.94zm10 10l.94 2.06.94-2.06 2.06-.94-2.06-.94-.94-2.06-.94 2.06-2.06.94z\"/><path d=\"M17.41 7.96l-1.37-1.37c-.4-.4-.92-.59-1.43-.59-.52 0-1.04.2-1.43.59L10.3 9.45l-7.72 7.72c-.78.78-.78 2.05 0 2.83L4 21.41c.39.39.9.59 1.41.59.51 0 1.02-.2 1.41-.59l7.78-7.78 2.81-2.81c.8-.78.8-2.07 0-2.86zM5.41 20L4 18.59l7.72-7.72 1.47 1.35L5.41 20z\"/>\n",
              "  </svg>\n",
              "      </button>\n",
              "      \n",
              "  <style>\n",
              "    .colab-df-container {\n",
              "      display:flex;\n",
              "      flex-wrap:wrap;\n",
              "      gap: 12px;\n",
              "    }\n",
              "\n",
              "    .colab-df-convert {\n",
              "      background-color: #E8F0FE;\n",
              "      border: none;\n",
              "      border-radius: 50%;\n",
              "      cursor: pointer;\n",
              "      display: none;\n",
              "      fill: #1967D2;\n",
              "      height: 32px;\n",
              "      padding: 0 0 0 0;\n",
              "      width: 32px;\n",
              "    }\n",
              "\n",
              "    .colab-df-convert:hover {\n",
              "      background-color: #E2EBFA;\n",
              "      box-shadow: 0px 1px 2px rgba(60, 64, 67, 0.3), 0px 1px 3px 1px rgba(60, 64, 67, 0.15);\n",
              "      fill: #174EA6;\n",
              "    }\n",
              "\n",
              "    [theme=dark] .colab-df-convert {\n",
              "      background-color: #3B4455;\n",
              "      fill: #D2E3FC;\n",
              "    }\n",
              "\n",
              "    [theme=dark] .colab-df-convert:hover {\n",
              "      background-color: #434B5C;\n",
              "      box-shadow: 0px 1px 3px 1px rgba(0, 0, 0, 0.15);\n",
              "      filter: drop-shadow(0px 1px 2px rgba(0, 0, 0, 0.3));\n",
              "      fill: #FFFFFF;\n",
              "    }\n",
              "  </style>\n",
              "\n",
              "      <script>\n",
              "        const buttonEl =\n",
              "          document.querySelector('#df-f2f3da5f-ed0f-4b13-b52b-31853fcf4e76 button.colab-df-convert');\n",
              "        buttonEl.style.display =\n",
              "          google.colab.kernel.accessAllowed ? 'block' : 'none';\n",
              "\n",
              "        async function convertToInteractive(key) {\n",
              "          const element = document.querySelector('#df-f2f3da5f-ed0f-4b13-b52b-31853fcf4e76');\n",
              "          const dataTable =\n",
              "            await google.colab.kernel.invokeFunction('convertToInteractive',\n",
              "                                                     [key], {});\n",
              "          if (!dataTable) return;\n",
              "\n",
              "          const docLinkHtml = 'Like what you see? Visit the ' +\n",
              "            '<a target=\"_blank\" href=https://colab.research.google.com/notebooks/data_table.ipynb>data table notebook</a>'\n",
              "            + ' to learn more about interactive tables.';\n",
              "          element.innerHTML = '';\n",
              "          dataTable['output_type'] = 'display_data';\n",
              "          await google.colab.output.renderOutput(dataTable, element);\n",
              "          const docLink = document.createElement('div');\n",
              "          docLink.innerHTML = docLinkHtml;\n",
              "          element.appendChild(docLink);\n",
              "        }\n",
              "      </script>\n",
              "    </div>\n",
              "  </div>\n",
              "  "
            ]
          },
          "metadata": {},
          "execution_count": 83
        }
      ]
    },
    {
      "cell_type": "code",
      "source": [
        "import nltk\n",
        "nltk.download('punkt')"
      ],
      "metadata": {
        "colab": {
          "base_uri": "https://localhost:8080/"
        },
        "id": "qdXI7CeqYmFK",
        "outputId": "1a75bbf6-0eec-46aa-f72c-da8d1fa3787a"
      },
      "execution_count": null,
      "outputs": [
        {
          "output_type": "stream",
          "name": "stdout",
          "text": [
            "[nltk_data] Downloading package punkt to /root/nltk_data...\n",
            "[nltk_data]   Unzipping tokenizers/punkt.zip.\n"
          ]
        },
        {
          "output_type": "execute_result",
          "data": {
            "text/plain": [
              "True"
            ]
          },
          "metadata": {},
          "execution_count": 88
        }
      ]
    },
    {
      "cell_type": "code",
      "source": [
        "from nltk import tokenize\n",
        "import random\n",
        "import re"
      ],
      "metadata": {
        "id": "D4uX42_vYPMD"
      },
      "execution_count": null,
      "outputs": []
    },
    {
      "cell_type": "code",
      "source": [
        "def random_sent(text):\n",
        "  \"Takes the body of an article and returns a list of random sentences\"\n",
        "  # split body into sentences and shuffle them\n",
        "  sent_list = tokenize.sent_tokenize(text)\n",
        "  random.shuffle(sent_list)\n",
        "  random_sents = []\n",
        "\n",
        "  # fill random sents_with sentences until the specified amount of tokens has been reached\n",
        "  for sent in sent_list:\n",
        "    tokenized = re.findall(\"[A-Z\\-\\']{2,}(?![a-z])|[A-Z\\-\\'][a-z\\-\\']+(?=[A-Z])|[\\'\\w\\-]+\",' '.join(random_sents))\n",
        "    if len(tokenized) <= 3300: # approximation\n",
        "    #if len(tokenize.word_tokenize(' '.join(random_sents))) <= 3072: # too slow\n",
        "      random_sents.append(sent)\n",
        "  else:\n",
        "    pass\n",
        "\n",
        "\n",
        "  return ' '.join(random_sents)"
      ],
      "metadata": {
        "id": "u3DVrwCxYx-A"
      },
      "execution_count": null,
      "outputs": []
    },
    {
      "cell_type": "markdown",
      "source": [
        "Note: I'm using a 'manual' regex tokenizer in the for loop because nltk is taking way too long. The resulting sequences will bee a bit too long and BigBird will cut them but we still have the desired effect of the shuffled sentences."
      ],
      "metadata": {
        "id": "qq5213aE4h64"
      }
    },
    {
      "cell_type": "code",
      "source": [
        "# apply the funciton to each row of the dataframes and append a new column with\n",
        "# the shortened text to each dataframe\n",
        "train_shortened_sent['shortened_articles'] = train_shortened_sent['body'].apply(random_sent)"
      ],
      "metadata": {
        "id": "fSU3EC830odm"
      },
      "execution_count": null,
      "outputs": []
    },
    {
      "cell_type": "code",
      "source": [
        "test_shortened_sent['shortened_articles'] = test_shortened_sent['body'].apply(random_sent)"
      ],
      "metadata": {
        "id": "HogTWP-Pi5Iy"
      },
      "execution_count": null,
      "outputs": []
    },
    {
      "cell_type": "code",
      "source": [
        "print(\"Shape of new train dataframe: \", train_shortened_sent.shape)\n",
        "print(\"Shape of new test dataframe: \", test_shortened_sent.shape)\n",
        "test_shortened_sent.head(3)"
      ],
      "metadata": {
        "colab": {
          "base_uri": "https://localhost:8080/",
          "height": 412
        },
        "id": "eWDg0G6voAah",
        "outputId": "41ccd8a1-34a1-4b16-ecba-75427b245c66"
      },
      "execution_count": null,
      "outputs": [
        {
          "output_type": "stream",
          "name": "stdout",
          "text": [
            "Shape of new train dataframe:  (10148, 7)\n",
            "Shape of new test dataframe:  (150, 7)\n"
          ]
        },
        {
          "output_type": "execute_result",
          "data": {
            "text/plain": [
              "                  id                                              title  \\\n",
              "0  S0003687013000549  Wrist posture affects hand and forearm muscle ...   \n",
              "1  S0003687013000550  Variation in work tasks in relation to pinch g...   \n",
              "2  S0003687013000562  The development of guidelines for the design a...   \n",
              "\n",
              "   abstract                                               body  \\\n",
              "0       NaN  Non-neutral wrist posture is a risk factor of ...   \n",
              "1       NaN  Objectives We aimed to investigate the relatio...   \n",
              "2       NaN  We report a study which aimed to provide furth...   \n",
              "\n",
              "                                          highlights  \\\n",
              "0  We quantified the effect of four wrist posture...   \n",
              "1  The relationship of task variation during dent...   \n",
              "2  We carried out an evaluation of a set of pilot...   \n",
              "\n",
              "                                         key_phrases  \\\n",
              "0  Biomechanical model\\nMuscle stress\\nOptimizati...   \n",
              "1  Pinch grip strength\\nSymptomatic hand OA\\nDent...   \n",
              "2  Warnings\\nSigns\\nChildren\\nSafety\\nGuidelines\\...   \n",
              "\n",
              "                                  shortened_articles  \n",
              "0  The activity patterns of the intrinsic muscles...  \n",
              "1  OA-related impairment in grip force production...  \n",
              "2  The aim of the current study is to firm up the...  "
            ],
            "text/html": [
              "\n",
              "  <div id=\"df-24e8416f-6d60-4e36-ae17-ddbae24659a7\">\n",
              "    <div class=\"colab-df-container\">\n",
              "      <div>\n",
              "<style scoped>\n",
              "    .dataframe tbody tr th:only-of-type {\n",
              "        vertical-align: middle;\n",
              "    }\n",
              "\n",
              "    .dataframe tbody tr th {\n",
              "        vertical-align: top;\n",
              "    }\n",
              "\n",
              "    .dataframe thead th {\n",
              "        text-align: right;\n",
              "    }\n",
              "</style>\n",
              "<table border=\"1\" class=\"dataframe\">\n",
              "  <thead>\n",
              "    <tr style=\"text-align: right;\">\n",
              "      <th></th>\n",
              "      <th>id</th>\n",
              "      <th>title</th>\n",
              "      <th>abstract</th>\n",
              "      <th>body</th>\n",
              "      <th>highlights</th>\n",
              "      <th>key_phrases</th>\n",
              "      <th>shortened_articles</th>\n",
              "    </tr>\n",
              "  </thead>\n",
              "  <tbody>\n",
              "    <tr>\n",
              "      <th>0</th>\n",
              "      <td>S0003687013000549</td>\n",
              "      <td>Wrist posture affects hand and forearm muscle ...</td>\n",
              "      <td>NaN</td>\n",
              "      <td>Non-neutral wrist posture is a risk factor of ...</td>\n",
              "      <td>We quantified the effect of four wrist posture...</td>\n",
              "      <td>Biomechanical model\\nMuscle stress\\nOptimizati...</td>\n",
              "      <td>The activity patterns of the intrinsic muscles...</td>\n",
              "    </tr>\n",
              "    <tr>\n",
              "      <th>1</th>\n",
              "      <td>S0003687013000550</td>\n",
              "      <td>Variation in work tasks in relation to pinch g...</td>\n",
              "      <td>NaN</td>\n",
              "      <td>Objectives We aimed to investigate the relatio...</td>\n",
              "      <td>The relationship of task variation during dent...</td>\n",
              "      <td>Pinch grip strength\\nSymptomatic hand OA\\nDent...</td>\n",
              "      <td>OA-related impairment in grip force production...</td>\n",
              "    </tr>\n",
              "    <tr>\n",
              "      <th>2</th>\n",
              "      <td>S0003687013000562</td>\n",
              "      <td>The development of guidelines for the design a...</td>\n",
              "      <td>NaN</td>\n",
              "      <td>We report a study which aimed to provide furth...</td>\n",
              "      <td>We carried out an evaluation of a set of pilot...</td>\n",
              "      <td>Warnings\\nSigns\\nChildren\\nSafety\\nGuidelines\\...</td>\n",
              "      <td>The aim of the current study is to firm up the...</td>\n",
              "    </tr>\n",
              "  </tbody>\n",
              "</table>\n",
              "</div>\n",
              "      <button class=\"colab-df-convert\" onclick=\"convertToInteractive('df-24e8416f-6d60-4e36-ae17-ddbae24659a7')\"\n",
              "              title=\"Convert this dataframe to an interactive table.\"\n",
              "              style=\"display:none;\">\n",
              "        \n",
              "  <svg xmlns=\"http://www.w3.org/2000/svg\" height=\"24px\"viewBox=\"0 0 24 24\"\n",
              "       width=\"24px\">\n",
              "    <path d=\"M0 0h24v24H0V0z\" fill=\"none\"/>\n",
              "    <path d=\"M18.56 5.44l.94 2.06.94-2.06 2.06-.94-2.06-.94-.94-2.06-.94 2.06-2.06.94zm-11 1L8.5 8.5l.94-2.06 2.06-.94-2.06-.94L8.5 2.5l-.94 2.06-2.06.94zm10 10l.94 2.06.94-2.06 2.06-.94-2.06-.94-.94-2.06-.94 2.06-2.06.94z\"/><path d=\"M17.41 7.96l-1.37-1.37c-.4-.4-.92-.59-1.43-.59-.52 0-1.04.2-1.43.59L10.3 9.45l-7.72 7.72c-.78.78-.78 2.05 0 2.83L4 21.41c.39.39.9.59 1.41.59.51 0 1.02-.2 1.41-.59l7.78-7.78 2.81-2.81c.8-.78.8-2.07 0-2.86zM5.41 20L4 18.59l7.72-7.72 1.47 1.35L5.41 20z\"/>\n",
              "  </svg>\n",
              "      </button>\n",
              "      \n",
              "  <style>\n",
              "    .colab-df-container {\n",
              "      display:flex;\n",
              "      flex-wrap:wrap;\n",
              "      gap: 12px;\n",
              "    }\n",
              "\n",
              "    .colab-df-convert {\n",
              "      background-color: #E8F0FE;\n",
              "      border: none;\n",
              "      border-radius: 50%;\n",
              "      cursor: pointer;\n",
              "      display: none;\n",
              "      fill: #1967D2;\n",
              "      height: 32px;\n",
              "      padding: 0 0 0 0;\n",
              "      width: 32px;\n",
              "    }\n",
              "\n",
              "    .colab-df-convert:hover {\n",
              "      background-color: #E2EBFA;\n",
              "      box-shadow: 0px 1px 2px rgba(60, 64, 67, 0.3), 0px 1px 3px 1px rgba(60, 64, 67, 0.15);\n",
              "      fill: #174EA6;\n",
              "    }\n",
              "\n",
              "    [theme=dark] .colab-df-convert {\n",
              "      background-color: #3B4455;\n",
              "      fill: #D2E3FC;\n",
              "    }\n",
              "\n",
              "    [theme=dark] .colab-df-convert:hover {\n",
              "      background-color: #434B5C;\n",
              "      box-shadow: 0px 1px 3px 1px rgba(0, 0, 0, 0.15);\n",
              "      filter: drop-shadow(0px 1px 2px rgba(0, 0, 0, 0.3));\n",
              "      fill: #FFFFFF;\n",
              "    }\n",
              "  </style>\n",
              "\n",
              "      <script>\n",
              "        const buttonEl =\n",
              "          document.querySelector('#df-24e8416f-6d60-4e36-ae17-ddbae24659a7 button.colab-df-convert');\n",
              "        buttonEl.style.display =\n",
              "          google.colab.kernel.accessAllowed ? 'block' : 'none';\n",
              "\n",
              "        async function convertToInteractive(key) {\n",
              "          const element = document.querySelector('#df-24e8416f-6d60-4e36-ae17-ddbae24659a7');\n",
              "          const dataTable =\n",
              "            await google.colab.kernel.invokeFunction('convertToInteractive',\n",
              "                                                     [key], {});\n",
              "          if (!dataTable) return;\n",
              "\n",
              "          const docLinkHtml = 'Like what you see? Visit the ' +\n",
              "            '<a target=\"_blank\" href=https://colab.research.google.com/notebooks/data_table.ipynb>data table notebook</a>'\n",
              "            + ' to learn more about interactive tables.';\n",
              "          element.innerHTML = '';\n",
              "          dataTable['output_type'] = 'display_data';\n",
              "          await google.colab.output.renderOutput(dataTable, element);\n",
              "          const docLink = document.createElement('div');\n",
              "          docLink.innerHTML = docLinkHtml;\n",
              "          element.appendChild(docLink);\n",
              "        }\n",
              "      </script>\n",
              "    </div>\n",
              "  </div>\n",
              "  "
            ]
          },
          "metadata": {},
          "execution_count": 185
        }
      ]
    },
    {
      "cell_type": "code",
      "source": [
        "# path to save file\n",
        "shortened_sent_path = '/content/drive/MyDrive/Text-Mining/Data/sentence_selection_random/'"
      ],
      "metadata": {
        "id": "sdyrTGu6VhpK"
      },
      "execution_count": null,
      "outputs": []
    },
    {
      "cell_type": "code",
      "source": [
        "# saving as tsv files\n",
        "train_shortened_sent.to_csv(os.path.join(shortened_sent_path, 'train_with_random_sent_sel_3072.tsv'), sep=\"\\t\")"
      ],
      "metadata": {
        "id": "wZTCNOzpptbf"
      },
      "execution_count": null,
      "outputs": []
    },
    {
      "cell_type": "code",
      "source": [
        "test_shortened_sent.to_csv(os.path.join(shortened_sent_path, 'test_with_random_sent_sel_3072.tsv'), sep=\"\\t\")"
      ],
      "metadata": {
        "id": "eKFA6iDm4_4W"
      },
      "execution_count": null,
      "outputs": []
    },
    {
      "cell_type": "markdown",
      "source": [
        "## Random extraction of paragraphs\n",
        "Pipeline 3:\n",
        "- Random extraction of paragraphs so that the length will be approx. 3072 tokens\n",
        "- train/test split\n",
        "- Finetune Bigbird Pegasus with randomly extracted paragraphs\n",
        "- Apply finetunes Bigbird Pegasus --> abstractive summary\n",
        "\n",
        "TODO:\n",
        "- Take the following columns from the original data files: index, id, title, abstract, body, highlights, key-phrases\n",
        "- Generate a list of random paragraphs from the body\n",
        "- Add the column 'shortened articles'"
      ],
      "metadata": {
        "id": "V6znFFxuIJwp"
      }
    },
    {
      "cell_type": "code",
      "source": [
        "# create new dataframes (copy relevant columns)\n",
        "train_shortened_par = train_data[['id','title', 'abstract', 'body', 'highlights', 'key_phrases']].copy()\n",
        "test_shortened_par = test_data[['id','title', 'abstract', 'body', 'highlights', 'key_phrases']].copy()\n",
        "print(\"Shape of new train dataframe: \", train_shortened_par.shape)\n",
        "print(\"Shape of new test dataframe: \", test_shortened_par.shape)\n",
        "test_shortened_par.head(3)"
      ],
      "metadata": {
        "colab": {
          "base_uri": "https://localhost:8080/",
          "height": 310
        },
        "id": "XfIDQ-PbXgjb",
        "outputId": "9ddc10bf-b5c4-4a83-fc84-04d9d3c57b93"
      },
      "execution_count": null,
      "outputs": [
        {
          "output_type": "stream",
          "name": "stdout",
          "text": [
            "Shape of new train dataframe:  (10148, 6)\n",
            "Shape of new test dataframe:  (150, 6)\n"
          ]
        },
        {
          "output_type": "execute_result",
          "data": {
            "text/plain": [
              "                  id                                              title  \\\n",
              "0  S0003687013000549  Wrist posture affects hand and forearm muscle ...   \n",
              "1  S0003687013000550  Variation in work tasks in relation to pinch g...   \n",
              "2  S0003687013000562  The development of guidelines for the design a...   \n",
              "\n",
              "   abstract                                               body  \\\n",
              "0       NaN  Non-neutral wrist posture is a risk factor of ...   \n",
              "1       NaN  Objectives We aimed to investigate the relatio...   \n",
              "2       NaN  We report a study which aimed to provide furth...   \n",
              "\n",
              "                                          highlights  \\\n",
              "0  We quantified the effect of four wrist posture...   \n",
              "1  The relationship of task variation during dent...   \n",
              "2  We carried out an evaluation of a set of pilot...   \n",
              "\n",
              "                                         key_phrases  \n",
              "0  Biomechanical model\\nMuscle stress\\nOptimizati...  \n",
              "1  Pinch grip strength\\nSymptomatic hand OA\\nDent...  \n",
              "2  Warnings\\nSigns\\nChildren\\nSafety\\nGuidelines\\...  "
            ],
            "text/html": [
              "\n",
              "  <div id=\"df-0958d34b-cb62-4593-9088-2527814a0538\">\n",
              "    <div class=\"colab-df-container\">\n",
              "      <div>\n",
              "<style scoped>\n",
              "    .dataframe tbody tr th:only-of-type {\n",
              "        vertical-align: middle;\n",
              "    }\n",
              "\n",
              "    .dataframe tbody tr th {\n",
              "        vertical-align: top;\n",
              "    }\n",
              "\n",
              "    .dataframe thead th {\n",
              "        text-align: right;\n",
              "    }\n",
              "</style>\n",
              "<table border=\"1\" class=\"dataframe\">\n",
              "  <thead>\n",
              "    <tr style=\"text-align: right;\">\n",
              "      <th></th>\n",
              "      <th>id</th>\n",
              "      <th>title</th>\n",
              "      <th>abstract</th>\n",
              "      <th>body</th>\n",
              "      <th>highlights</th>\n",
              "      <th>key_phrases</th>\n",
              "    </tr>\n",
              "  </thead>\n",
              "  <tbody>\n",
              "    <tr>\n",
              "      <th>0</th>\n",
              "      <td>S0003687013000549</td>\n",
              "      <td>Wrist posture affects hand and forearm muscle ...</td>\n",
              "      <td>NaN</td>\n",
              "      <td>Non-neutral wrist posture is a risk factor of ...</td>\n",
              "      <td>We quantified the effect of four wrist posture...</td>\n",
              "      <td>Biomechanical model\\nMuscle stress\\nOptimizati...</td>\n",
              "    </tr>\n",
              "    <tr>\n",
              "      <th>1</th>\n",
              "      <td>S0003687013000550</td>\n",
              "      <td>Variation in work tasks in relation to pinch g...</td>\n",
              "      <td>NaN</td>\n",
              "      <td>Objectives We aimed to investigate the relatio...</td>\n",
              "      <td>The relationship of task variation during dent...</td>\n",
              "      <td>Pinch grip strength\\nSymptomatic hand OA\\nDent...</td>\n",
              "    </tr>\n",
              "    <tr>\n",
              "      <th>2</th>\n",
              "      <td>S0003687013000562</td>\n",
              "      <td>The development of guidelines for the design a...</td>\n",
              "      <td>NaN</td>\n",
              "      <td>We report a study which aimed to provide furth...</td>\n",
              "      <td>We carried out an evaluation of a set of pilot...</td>\n",
              "      <td>Warnings\\nSigns\\nChildren\\nSafety\\nGuidelines\\...</td>\n",
              "    </tr>\n",
              "  </tbody>\n",
              "</table>\n",
              "</div>\n",
              "      <button class=\"colab-df-convert\" onclick=\"convertToInteractive('df-0958d34b-cb62-4593-9088-2527814a0538')\"\n",
              "              title=\"Convert this dataframe to an interactive table.\"\n",
              "              style=\"display:none;\">\n",
              "        \n",
              "  <svg xmlns=\"http://www.w3.org/2000/svg\" height=\"24px\"viewBox=\"0 0 24 24\"\n",
              "       width=\"24px\">\n",
              "    <path d=\"M0 0h24v24H0V0z\" fill=\"none\"/>\n",
              "    <path d=\"M18.56 5.44l.94 2.06.94-2.06 2.06-.94-2.06-.94-.94-2.06-.94 2.06-2.06.94zm-11 1L8.5 8.5l.94-2.06 2.06-.94-2.06-.94L8.5 2.5l-.94 2.06-2.06.94zm10 10l.94 2.06.94-2.06 2.06-.94-2.06-.94-.94-2.06-.94 2.06-2.06.94z\"/><path d=\"M17.41 7.96l-1.37-1.37c-.4-.4-.92-.59-1.43-.59-.52 0-1.04.2-1.43.59L10.3 9.45l-7.72 7.72c-.78.78-.78 2.05 0 2.83L4 21.41c.39.39.9.59 1.41.59.51 0 1.02-.2 1.41-.59l7.78-7.78 2.81-2.81c.8-.78.8-2.07 0-2.86zM5.41 20L4 18.59l7.72-7.72 1.47 1.35L5.41 20z\"/>\n",
              "  </svg>\n",
              "      </button>\n",
              "      \n",
              "  <style>\n",
              "    .colab-df-container {\n",
              "      display:flex;\n",
              "      flex-wrap:wrap;\n",
              "      gap: 12px;\n",
              "    }\n",
              "\n",
              "    .colab-df-convert {\n",
              "      background-color: #E8F0FE;\n",
              "      border: none;\n",
              "      border-radius: 50%;\n",
              "      cursor: pointer;\n",
              "      display: none;\n",
              "      fill: #1967D2;\n",
              "      height: 32px;\n",
              "      padding: 0 0 0 0;\n",
              "      width: 32px;\n",
              "    }\n",
              "\n",
              "    .colab-df-convert:hover {\n",
              "      background-color: #E2EBFA;\n",
              "      box-shadow: 0px 1px 2px rgba(60, 64, 67, 0.3), 0px 1px 3px 1px rgba(60, 64, 67, 0.15);\n",
              "      fill: #174EA6;\n",
              "    }\n",
              "\n",
              "    [theme=dark] .colab-df-convert {\n",
              "      background-color: #3B4455;\n",
              "      fill: #D2E3FC;\n",
              "    }\n",
              "\n",
              "    [theme=dark] .colab-df-convert:hover {\n",
              "      background-color: #434B5C;\n",
              "      box-shadow: 0px 1px 3px 1px rgba(0, 0, 0, 0.15);\n",
              "      filter: drop-shadow(0px 1px 2px rgba(0, 0, 0, 0.3));\n",
              "      fill: #FFFFFF;\n",
              "    }\n",
              "  </style>\n",
              "\n",
              "      <script>\n",
              "        const buttonEl =\n",
              "          document.querySelector('#df-0958d34b-cb62-4593-9088-2527814a0538 button.colab-df-convert');\n",
              "        buttonEl.style.display =\n",
              "          google.colab.kernel.accessAllowed ? 'block' : 'none';\n",
              "\n",
              "        async function convertToInteractive(key) {\n",
              "          const element = document.querySelector('#df-0958d34b-cb62-4593-9088-2527814a0538');\n",
              "          const dataTable =\n",
              "            await google.colab.kernel.invokeFunction('convertToInteractive',\n",
              "                                                     [key], {});\n",
              "          if (!dataTable) return;\n",
              "\n",
              "          const docLinkHtml = 'Like what you see? Visit the ' +\n",
              "            '<a target=\"_blank\" href=https://colab.research.google.com/notebooks/data_table.ipynb>data table notebook</a>'\n",
              "            + ' to learn more about interactive tables.';\n",
              "          element.innerHTML = '';\n",
              "          dataTable['output_type'] = 'display_data';\n",
              "          await google.colab.output.renderOutput(dataTable, element);\n",
              "          const docLink = document.createElement('div');\n",
              "          docLink.innerHTML = docLinkHtml;\n",
              "          element.appendChild(docLink);\n",
              "        }\n",
              "      </script>\n",
              "    </div>\n",
              "  </div>\n",
              "  "
            ]
          },
          "metadata": {},
          "execution_count": 156
        }
      ]
    },
    {
      "cell_type": "code",
      "source": [
        "import re"
      ],
      "metadata": {
        "id": "3m29mvUC1L5b"
      },
      "execution_count": null,
      "outputs": []
    },
    {
      "cell_type": "code",
      "source": [
        "def random_paragraph(text):\n",
        "  \"Takes the body of an article and returns a list of random paragraphs\"\n",
        "  # split body into paragraphs and shuffle them\n",
        "  paragraph_list = text.split('\\n')\n",
        "  random.shuffle(paragraph_list)\n",
        "  random_paragraphs = []\n",
        "\n",
        "  # fill random_paragraphs with sentences until the specified amount of tokens has been reached\n",
        "  for par in paragraph_list:\n",
        "    # check how many tokens already in random paragraphs list to avoid looping too often (manual tokenizer)\n",
        "    tokenized = re.findall(\"[A-Z\\-\\']{2,}(?![a-z])|[A-Z\\-\\'][a-z\\-\\']+(?=[A-Z])|[\\'\\w\\-]+\",' '.join(random_paragraphs))\n",
        "    #if len(tokenize.word_tokenize(' '.join(random_paragraphs))) <= 3072: # too slow\n",
        "    if len(tokenized) <= 3300:\n",
        "      random_paragraphs.append(par)\n",
        "  else:\n",
        "    pass\n",
        "\n",
        "\n",
        "  return '\\n'.join(random_paragraphs)\n"
      ],
      "metadata": {
        "id": "_StJApYJXgdK"
      },
      "execution_count": null,
      "outputs": []
    },
    {
      "cell_type": "markdown",
      "source": [
        "Note: Like above, this results in strings that are slightly too long and will be cut off by BigBird Pegasus due to the regex tokenizer but we still have the desired effect of the shuffled paragraphs."
      ],
      "metadata": {
        "id": "OaoermEf3vFK"
      }
    },
    {
      "cell_type": "code",
      "source": [
        "# apply the funciton to each row of the dataframes and append a new column with\n",
        "# the shortened text to each dataframe\n",
        "test_shortened_par['shortened_articles'] = test_shortened_par['body'].apply(random_paragraph)"
      ],
      "metadata": {
        "id": "dQ7duNcGXgXT"
      },
      "execution_count": null,
      "outputs": []
    },
    {
      "cell_type": "code",
      "source": [
        "train_shortened_par['shortened_articles'] = train_shortened_par['body'].apply(random_paragraph)"
      ],
      "metadata": {
        "id": "yYLbEn1_tmRg"
      },
      "execution_count": null,
      "outputs": []
    },
    {
      "cell_type": "code",
      "source": [
        "print(\"Shape of new train dataframe: \", train_shortened_par.shape)\n",
        "print(\"Shape of new test dataframe: \", test_shortened_par.shape)\n",
        "test_shortened_par.head(3)"
      ],
      "metadata": {
        "colab": {
          "base_uri": "https://localhost:8080/",
          "height": 412
        },
        "id": "02GaQqJvt80O",
        "outputId": "a7f17862-ec74-467f-af11-bba755845973"
      },
      "execution_count": null,
      "outputs": [
        {
          "output_type": "stream",
          "name": "stdout",
          "text": [
            "Shape of new train dataframe:  (10148, 7)\n",
            "Shape of new test dataframe:  (150, 7)\n"
          ]
        },
        {
          "output_type": "execute_result",
          "data": {
            "text/plain": [
              "                  id                                              title  \\\n",
              "0  S0003687013000549  Wrist posture affects hand and forearm muscle ...   \n",
              "1  S0003687013000550  Variation in work tasks in relation to pinch g...   \n",
              "2  S0003687013000562  The development of guidelines for the design a...   \n",
              "\n",
              "   abstract                                               body  \\\n",
              "0       NaN  Non-neutral wrist posture is a risk factor of ...   \n",
              "1       NaN  Objectives We aimed to investigate the relatio...   \n",
              "2       NaN  We report a study which aimed to provide furth...   \n",
              "\n",
              "                                          highlights  \\\n",
              "0  We quantified the effect of four wrist posture...   \n",
              "1  The relationship of task variation during dent...   \n",
              "2  We carried out an evaluation of a set of pilot...   \n",
              "\n",
              "                                         key_phrases  \\\n",
              "0  Biomechanical model\\nMuscle stress\\nOptimizati...   \n",
              "1  Pinch grip strength\\nSymptomatic hand OA\\nDent...   \n",
              "2  Warnings\\nSigns\\nChildren\\nSafety\\nGuidelines\\...   \n",
              "\n",
              "                                  shortened_articles  \n",
              "0  Other studies measured muscle loading using el...  \n",
              "1  Chronic diseases affecting the hand may also l...  \n",
              "2  A final area for future work is the need to vi...  "
            ],
            "text/html": [
              "\n",
              "  <div id=\"df-dbfad855-d92f-49a9-8352-4566dad82f97\">\n",
              "    <div class=\"colab-df-container\">\n",
              "      <div>\n",
              "<style scoped>\n",
              "    .dataframe tbody tr th:only-of-type {\n",
              "        vertical-align: middle;\n",
              "    }\n",
              "\n",
              "    .dataframe tbody tr th {\n",
              "        vertical-align: top;\n",
              "    }\n",
              "\n",
              "    .dataframe thead th {\n",
              "        text-align: right;\n",
              "    }\n",
              "</style>\n",
              "<table border=\"1\" class=\"dataframe\">\n",
              "  <thead>\n",
              "    <tr style=\"text-align: right;\">\n",
              "      <th></th>\n",
              "      <th>id</th>\n",
              "      <th>title</th>\n",
              "      <th>abstract</th>\n",
              "      <th>body</th>\n",
              "      <th>highlights</th>\n",
              "      <th>key_phrases</th>\n",
              "      <th>shortened_articles</th>\n",
              "    </tr>\n",
              "  </thead>\n",
              "  <tbody>\n",
              "    <tr>\n",
              "      <th>0</th>\n",
              "      <td>S0003687013000549</td>\n",
              "      <td>Wrist posture affects hand and forearm muscle ...</td>\n",
              "      <td>NaN</td>\n",
              "      <td>Non-neutral wrist posture is a risk factor of ...</td>\n",
              "      <td>We quantified the effect of four wrist posture...</td>\n",
              "      <td>Biomechanical model\\nMuscle stress\\nOptimizati...</td>\n",
              "      <td>Other studies measured muscle loading using el...</td>\n",
              "    </tr>\n",
              "    <tr>\n",
              "      <th>1</th>\n",
              "      <td>S0003687013000550</td>\n",
              "      <td>Variation in work tasks in relation to pinch g...</td>\n",
              "      <td>NaN</td>\n",
              "      <td>Objectives We aimed to investigate the relatio...</td>\n",
              "      <td>The relationship of task variation during dent...</td>\n",
              "      <td>Pinch grip strength\\nSymptomatic hand OA\\nDent...</td>\n",
              "      <td>Chronic diseases affecting the hand may also l...</td>\n",
              "    </tr>\n",
              "    <tr>\n",
              "      <th>2</th>\n",
              "      <td>S0003687013000562</td>\n",
              "      <td>The development of guidelines for the design a...</td>\n",
              "      <td>NaN</td>\n",
              "      <td>We report a study which aimed to provide furth...</td>\n",
              "      <td>We carried out an evaluation of a set of pilot...</td>\n",
              "      <td>Warnings\\nSigns\\nChildren\\nSafety\\nGuidelines\\...</td>\n",
              "      <td>A final area for future work is the need to vi...</td>\n",
              "    </tr>\n",
              "  </tbody>\n",
              "</table>\n",
              "</div>\n",
              "      <button class=\"colab-df-convert\" onclick=\"convertToInteractive('df-dbfad855-d92f-49a9-8352-4566dad82f97')\"\n",
              "              title=\"Convert this dataframe to an interactive table.\"\n",
              "              style=\"display:none;\">\n",
              "        \n",
              "  <svg xmlns=\"http://www.w3.org/2000/svg\" height=\"24px\"viewBox=\"0 0 24 24\"\n",
              "       width=\"24px\">\n",
              "    <path d=\"M0 0h24v24H0V0z\" fill=\"none\"/>\n",
              "    <path d=\"M18.56 5.44l.94 2.06.94-2.06 2.06-.94-2.06-.94-.94-2.06-.94 2.06-2.06.94zm-11 1L8.5 8.5l.94-2.06 2.06-.94-2.06-.94L8.5 2.5l-.94 2.06-2.06.94zm10 10l.94 2.06.94-2.06 2.06-.94-2.06-.94-.94-2.06-.94 2.06-2.06.94z\"/><path d=\"M17.41 7.96l-1.37-1.37c-.4-.4-.92-.59-1.43-.59-.52 0-1.04.2-1.43.59L10.3 9.45l-7.72 7.72c-.78.78-.78 2.05 0 2.83L4 21.41c.39.39.9.59 1.41.59.51 0 1.02-.2 1.41-.59l7.78-7.78 2.81-2.81c.8-.78.8-2.07 0-2.86zM5.41 20L4 18.59l7.72-7.72 1.47 1.35L5.41 20z\"/>\n",
              "  </svg>\n",
              "      </button>\n",
              "      \n",
              "  <style>\n",
              "    .colab-df-container {\n",
              "      display:flex;\n",
              "      flex-wrap:wrap;\n",
              "      gap: 12px;\n",
              "    }\n",
              "\n",
              "    .colab-df-convert {\n",
              "      background-color: #E8F0FE;\n",
              "      border: none;\n",
              "      border-radius: 50%;\n",
              "      cursor: pointer;\n",
              "      display: none;\n",
              "      fill: #1967D2;\n",
              "      height: 32px;\n",
              "      padding: 0 0 0 0;\n",
              "      width: 32px;\n",
              "    }\n",
              "\n",
              "    .colab-df-convert:hover {\n",
              "      background-color: #E2EBFA;\n",
              "      box-shadow: 0px 1px 2px rgba(60, 64, 67, 0.3), 0px 1px 3px 1px rgba(60, 64, 67, 0.15);\n",
              "      fill: #174EA6;\n",
              "    }\n",
              "\n",
              "    [theme=dark] .colab-df-convert {\n",
              "      background-color: #3B4455;\n",
              "      fill: #D2E3FC;\n",
              "    }\n",
              "\n",
              "    [theme=dark] .colab-df-convert:hover {\n",
              "      background-color: #434B5C;\n",
              "      box-shadow: 0px 1px 3px 1px rgba(0, 0, 0, 0.15);\n",
              "      filter: drop-shadow(0px 1px 2px rgba(0, 0, 0, 0.3));\n",
              "      fill: #FFFFFF;\n",
              "    }\n",
              "  </style>\n",
              "\n",
              "      <script>\n",
              "        const buttonEl =\n",
              "          document.querySelector('#df-dbfad855-d92f-49a9-8352-4566dad82f97 button.colab-df-convert');\n",
              "        buttonEl.style.display =\n",
              "          google.colab.kernel.accessAllowed ? 'block' : 'none';\n",
              "\n",
              "        async function convertToInteractive(key) {\n",
              "          const element = document.querySelector('#df-dbfad855-d92f-49a9-8352-4566dad82f97');\n",
              "          const dataTable =\n",
              "            await google.colab.kernel.invokeFunction('convertToInteractive',\n",
              "                                                     [key], {});\n",
              "          if (!dataTable) return;\n",
              "\n",
              "          const docLinkHtml = 'Like what you see? Visit the ' +\n",
              "            '<a target=\"_blank\" href=https://colab.research.google.com/notebooks/data_table.ipynb>data table notebook</a>'\n",
              "            + ' to learn more about interactive tables.';\n",
              "          element.innerHTML = '';\n",
              "          dataTable['output_type'] = 'display_data';\n",
              "          await google.colab.output.renderOutput(dataTable, element);\n",
              "          const docLink = document.createElement('div');\n",
              "          docLink.innerHTML = docLinkHtml;\n",
              "          element.appendChild(docLink);\n",
              "        }\n",
              "      </script>\n",
              "    </div>\n",
              "  </div>\n",
              "  "
            ]
          },
          "metadata": {},
          "execution_count": 175
        }
      ]
    },
    {
      "cell_type": "code",
      "source": [
        "# path to save files\n",
        "shortened_paragraph_path = '/content/drive/MyDrive/Text-Mining/Data/paragraph_selection_random/'"
      ],
      "metadata": {
        "id": "ej4zMw5DpWMD"
      },
      "execution_count": null,
      "outputs": []
    },
    {
      "cell_type": "code",
      "source": [
        "# saving as tsv files\n",
        "test_shortened_par.to_csv(os.path.join(shortened_paragraph_path, 'test_with_random_paragraph_sel_3072.tsv'), sep=\"\\t\")"
      ],
      "metadata": {
        "id": "JvPTbMQTXgRJ"
      },
      "execution_count": null,
      "outputs": []
    },
    {
      "cell_type": "code",
      "source": [
        "train_shortened_par.to_csv(os.path.join(shortened_paragraph_path, 'train_with_random_paragraph_sel_3072.tsv'), sep=\"\\t\")"
      ],
      "metadata": {
        "id": "MoVDNTg3XgLM"
      },
      "execution_count": null,
      "outputs": []
    }
  ]
}